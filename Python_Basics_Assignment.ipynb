{
  "nbformat": 4,
  "nbformat_minor": 0,
  "metadata": {
    "colab": {
      "provenance": [],
      "authorship_tag": "ABX9TyOc9aPnICrIw0MJg5FG/xgy",
      "include_colab_link": true
    },
    "kernelspec": {
      "name": "python3",
      "display_name": "Python 3"
    },
    "language_info": {
      "name": "python"
    }
  },
  "cells": [
    {
      "cell_type": "markdown",
      "metadata": {
        "id": "view-in-github",
        "colab_type": "text"
      },
      "source": [
        "<a href=\"https://colab.research.google.com/github/rishisg/ChatGPT/blob/main/Python_Basics_Assignment.ipynb\" target=\"_parent\"><img src=\"https://colab.research.google.com/assets/colab-badge.svg\" alt=\"Open In Colab\"/></a>"
      ]
    },
    {
      "cell_type": "markdown",
      "source": [
        "Python Programming Basics\n",
        "1. Setup and Basic Operations\n",
        "- Install Python (if not already installed).\n",
        "- Use print() and input() functions.\n",
        "- Assign values to variables and explore different data types."
      ],
      "metadata": {
        "id": "ujMTTQ5VnGtK"
      }
    },
    {
      "cell_type": "code",
      "source": [
        "# Print and input functions\n",
        "print(\"Hello, Python!\")\n",
        "name = input(\"Enter your name: \")\n",
        "print(f\"Hello, {name}!\")\n",
        "\n",
        "# Assigning variables\n",
        "x = 5\n",
        "y = 3.14\n",
        "z = \"Hello\"\n",
        "print(x, y, z)\n"
      ],
      "metadata": {
        "colab": {
          "base_uri": "https://localhost:8080/"
        },
        "id": "ZOE_VuDgnTAe",
        "outputId": "92ad7b81-b9d6-40d5-9ca7-e3e0b8ce3c79"
      },
      "execution_count": 1,
      "outputs": [
        {
          "output_type": "stream",
          "name": "stdout",
          "text": [
            "Hello, Python!\n",
            "Enter your name: Lakshman\n",
            "Hello, Lakshman!\n",
            "5 3.14 Hello\n"
          ]
        }
      ]
    },
    {
      "cell_type": "markdown",
      "source": [],
      "metadata": {
        "id": "A8zuGyllnB6k"
      }
    },
    {
      "cell_type": "markdown",
      "source": [
        "2. List Operations\n",
        "- Create a list and perform basic operations like append(), remove(), pop(), and slicing.\n",
        "- Iterate over a list using loops."
      ],
      "metadata": {
        "id": "ZMGAEwpDoL1z"
      }
    },
    {
      "cell_type": "code",
      "source": [
        "# List creation and operations\n",
        "my_list = [1, 2, 3, 4, 5]\n",
        "\n",
        "# Append, remove, pop, and slicing\n",
        "my_list.append(6)\n",
        "my_list.remove(2)\n",
        "my_list.pop(3)  # Removes element at index 3\n",
        "print(my_list[1:4])  # Slicing\n",
        "\n",
        "# Iterating over a list using for loop\n",
        "for element in my_list:\n",
        "    print(element)\n"
      ],
      "metadata": {
        "colab": {
          "base_uri": "https://localhost:8080/"
        },
        "id": "THHWAz2IoSIl",
        "outputId": "b7342ef3-691e-470d-8de2-bba41c2bdb07"
      },
      "execution_count": 6,
      "outputs": [
        {
          "output_type": "stream",
          "name": "stdout",
          "text": [
            "[3, 4, 6]\n",
            "1\n",
            "3\n",
            "4\n",
            "6\n"
          ]
        }
      ]
    },
    {
      "cell_type": "markdown",
      "source": [
        "3. Tuple Operations\n",
        "- Create and access tuple elements.\n",
        "- Understand the immutability of tuples.\n",
        "- Use tuple unpacking."
      ],
      "metadata": {
        "id": "9dWBKLPUrz8R"
      }
    },
    {
      "cell_type": "code",
      "source": [
        "# Tuple creation and access\n",
        "my_tuple = (1, 2, 3, 4)\n",
        "print(my_tuple[0])  # Access element by index\n",
        "\n",
        "# Tuple unpacking\n",
        "a, b, c, d = my_tuple\n",
        "print(a, b, c, d)\n"
      ],
      "metadata": {
        "colab": {
          "base_uri": "https://localhost:8080/"
        },
        "id": "epW8_zYMsyw3",
        "outputId": "3dc26ab7-f7d5-45b2-fd01-f41a7c3fbd19"
      },
      "execution_count": 7,
      "outputs": [
        {
          "output_type": "stream",
          "name": "stdout",
          "text": [
            "1\n",
            "1 2 3 4\n"
          ]
        }
      ]
    },
    {
      "cell_type": "markdown",
      "source": [
        "4. Dictionary Operations\n",
        "- Create a dictionary with key-value pairs.\n",
        "- Perform operations like adding, updating, and deleting key-value pairs.\n",
        "- Iterate through a dictionary using loops."
      ],
      "metadata": {
        "id": "nY3RQrU_s8t-"
      }
    },
    {
      "cell_type": "code",
      "source": [
        "# Dictionary creation and operations\n",
        "my_dict = {\"Alice\": 85, \"Bob\": 92, \"Charlie\": 88}\n",
        "\n",
        "# Adding, updating, and deleting elements\n",
        "my_dict[\"Dave\"] = 90  # Add new key-value pair\n",
        "my_dict[\"Alice\"] = 95  # Update value for Alice\n",
        "del my_dict[\"Bob\"]  # Delete Bob\n",
        "\n",
        "# Iterating through a dictionary\n",
        "for student, marks in my_dict.items():\n",
        "    print(f\"{student}: {marks}\")\n"
      ],
      "metadata": {
        "colab": {
          "base_uri": "https://localhost:8080/"
        },
        "id": "Fm0YFlpAtHbT",
        "outputId": "0daed5c9-80fd-44ac-def8-b9d0b6c8e86a"
      },
      "execution_count": 8,
      "outputs": [
        {
          "output_type": "stream",
          "name": "stdout",
          "text": [
            "Alice: 95\n",
            "Charlie: 88\n",
            "Dave: 90\n"
          ]
        }
      ]
    },
    {
      "cell_type": "markdown",
      "source": [
        "5. Set Operations\n",
        "- Create a set and perform operations like union, intersection, and difference.\n",
        "- Understand the uniqueness property of sets."
      ],
      "metadata": {
        "id": "_0E8sX_qtKz3"
      }
    },
    {
      "cell_type": "code",
      "source": [
        "# Set creation and operations\n",
        "set_a = {1, 2, 3, 4}\n",
        "set_b = {3, 4, 5, 6}\n",
        "\n",
        "# Union, intersection, and difference\n",
        "union_set = set_a | set_b\n",
        "intersection_set = set_a & set_b\n",
        "difference_set = set_a - set_b\n",
        "\n",
        "print(\"Union:\", union_set)\n",
        "print(\"Intersection:\", intersection_set)\n",
        "print(\"Difference:\", difference_set)\n"
      ],
      "metadata": {
        "colab": {
          "base_uri": "https://localhost:8080/"
        },
        "id": "izjx4AOctSUp",
        "outputId": "26d48d2d-6c0c-4ec3-9e13-91bc3aae7f40"
      },
      "execution_count": 9,
      "outputs": [
        {
          "output_type": "stream",
          "name": "stdout",
          "text": [
            "Union: {1, 2, 3, 4, 5, 6}\n",
            "Intersection: {3, 4}\n",
            "Difference: {1, 2}\n"
          ]
        }
      ]
    },
    {
      "cell_type": "markdown",
      "source": [
        "6. Conditional Statements\n",
        "- Implement if-else conditions for decision-making.\n",
        "- Use nested if-else conditions for complex logic."
      ],
      "metadata": {
        "id": "qXz7Bq6vtgJP"
      }
    },
    {
      "cell_type": "code",
      "source": [
        "# Simple if-else\n",
        "age = 18\n",
        "if age >= 18:\n",
        "    print(\"You are an adult.\")\n",
        "else:\n",
        "    print(\"You are a minor.\")\n",
        "\n",
        "# Nested if-else\n",
        "marks = 85\n",
        "if marks >= 90:\n",
        "    print(\"Grade: A\")\n",
        "elif marks >= 80:\n",
        "    print(\"Grade: B\")\n",
        "else:\n",
        "    print(\"Grade: C\")\n"
      ],
      "metadata": {
        "colab": {
          "base_uri": "https://localhost:8080/"
        },
        "id": "Gq_LK9OmtrUZ",
        "outputId": "e373cc6a-0620-4573-ebf6-558c2bec60fa"
      },
      "execution_count": 10,
      "outputs": [
        {
          "output_type": "stream",
          "name": "stdout",
          "text": [
            "You are an adult.\n",
            "Grade: B\n"
          ]
        }
      ]
    },
    {
      "cell_type": "markdown",
      "source": [
        "7. Looping Constructs\n",
        "- Use for loops to iterate over lists, tuples, and dictionaries.\n",
        "- Use while loops for repeating tasks.\n",
        "- Implement break and continue statements to control loops."
      ],
      "metadata": {
        "id": "gBxmogCxtzp_"
      }
    },
    {
      "cell_type": "code",
      "source": [
        "# Using for loop for lists\n",
        "for i in range(5):\n",
        "    print(i)\n",
        "\n",
        "# Using while loop for repetition\n",
        "print('\\n')\n",
        "count = 0\n",
        "while count < 5:\n",
        "    print(count)\n",
        "    count += 1\n",
        "\n",
        "# Using break and continue\n",
        "print('\\n')\n",
        "for i in range(10):\n",
        "    if i == 5:\n",
        "        break  # Exit loop when i is 5\n",
        "    if i == 3:\n",
        "        continue  # Skip iteration when i is 3\n",
        "    print(i)\n"
      ],
      "metadata": {
        "colab": {
          "base_uri": "https://localhost:8080/"
        },
        "id": "SzKs9dAUt_95",
        "outputId": "1ed7717f-b0eb-4d58-8db0-472e92e31702"
      },
      "execution_count": 17,
      "outputs": [
        {
          "output_type": "stream",
          "name": "stdout",
          "text": [
            "0\n",
            "1\n",
            "2\n",
            "3\n",
            "4\n",
            "\n",
            "\n",
            "0\n",
            "1\n",
            "2\n",
            "3\n",
            "4\n",
            "\n",
            "\n",
            "0\n",
            "1\n",
            "2\n",
            "4\n"
          ]
        }
      ]
    },
    {
      "cell_type": "markdown",
      "source": [
        "8. Problem-Solving Tasks\n",
        "- 1. Find the Largest Number in a List"
      ],
      "metadata": {
        "id": "uV4l2Q-QvA-y"
      }
    },
    {
      "cell_type": "code",
      "source": [
        "numbers = [2, 7, 1, 9, 4]\n",
        "largest_number = max(numbers)\n",
        "print(\"Largest number:\", largest_number)\n"
      ],
      "metadata": {
        "colab": {
          "base_uri": "https://localhost:8080/"
        },
        "id": "s2ni7-CKvGxT",
        "outputId": "c385d18d-59d1-4d5c-a510-823ab9bd5d59"
      },
      "execution_count": 18,
      "outputs": [
        {
          "output_type": "stream",
          "name": "stdout",
          "text": [
            "Largest number: 9\n"
          ]
        }
      ]
    },
    {
      "cell_type": "markdown",
      "source": [
        "- 2. Count the Frequency of Elements in a List"
      ],
      "metadata": {
        "id": "ulRQimNtvO8a"
      }
    },
    {
      "cell_type": "code",
      "source": [
        "my_list = [1, 2, 2, 3, 3, 3, 4]\n",
        "frequency = {}\n",
        "for item in my_list:\n",
        "    frequency[item] = frequency.get(item, 0) + 1\n",
        "print(frequency)\n"
      ],
      "metadata": {
        "colab": {
          "base_uri": "https://localhost:8080/"
        },
        "id": "qAynIXJ8vT39",
        "outputId": "49cebfce-7732-449d-a076-98b8ac26488e"
      },
      "execution_count": 19,
      "outputs": [
        {
          "output_type": "stream",
          "name": "stdout",
          "text": [
            "{1: 1, 2: 2, 3: 3, 4: 1}\n"
          ]
        }
      ]
    },
    {
      "cell_type": "markdown",
      "source": [
        "- 3. Create a Dictionary of Student Names and Marks and Find the Student with the Highest Marks"
      ],
      "metadata": {
        "id": "DZnPzg-IvzeC"
      }
    },
    {
      "cell_type": "code",
      "source": [
        "students = {\"Alice\": 85, \"Bob\": 92, \"Charlie\": 88}\n",
        "top_student = max(students, key=students.get)\n",
        "print(f\"Top student: {top_student} with marks {students[top_student]}\")\n"
      ],
      "metadata": {
        "colab": {
          "base_uri": "https://localhost:8080/"
        },
        "id": "yGg-0HTFv3vq",
        "outputId": "08705704-42f9-432e-b367-05e978aa786f"
      },
      "execution_count": 20,
      "outputs": [
        {
          "output_type": "stream",
          "name": "stdout",
          "text": [
            "Top student: Bob with marks 92\n"
          ]
        }
      ]
    },
    {
      "cell_type": "markdown",
      "source": [
        "- 4. Implement a While Loop to Print the Fibonacci Series Up to a Given Number"
      ],
      "metadata": {
        "id": "hm9N4CY4wWWw"
      }
    },
    {
      "cell_type": "code",
      "source": [
        "n = 10  # Print Fibonacci series up to 10\n",
        "a, b = 0, 1\n",
        "while a <= n:\n",
        "    print(a, end=\" \")\n",
        "    a, b = b, a + b\n"
      ],
      "metadata": {
        "colab": {
          "base_uri": "https://localhost:8080/"
        },
        "id": "VeHdIZiVwaHn",
        "outputId": "d9ef6a2d-ca1b-41a1-a550-fd90319259eb"
      },
      "execution_count": 21,
      "outputs": [
        {
          "output_type": "stream",
          "name": "stdout",
          "text": [
            "0 1 1 2 3 5 8 "
          ]
        }
      ]
    },
    {
      "cell_type": "markdown",
      "source": [
        "- 5. Use a Set to Remove Duplicate Elements from a List"
      ],
      "metadata": {
        "id": "ctzPqoCrwh-z"
      }
    },
    {
      "cell_type": "code",
      "source": [
        "my_list = [1, 2, 2, 3, 4, 4, 5]\n",
        "unique_elements = set(my_list)\n",
        "print(\"Unique elements:\", unique_elements)\n"
      ],
      "metadata": {
        "colab": {
          "base_uri": "https://localhost:8080/"
        },
        "id": "6ew_E62Dwobg",
        "outputId": "ac10e988-cef7-42ab-fefd-02a654267cf3"
      },
      "execution_count": 22,
      "outputs": [
        {
          "output_type": "stream",
          "name": "stdout",
          "text": [
            "Unique elements: {1, 2, 3, 4, 5}\n"
          ]
        }
      ]
    },
    {
      "cell_type": "markdown",
      "source": [],
      "metadata": {
        "id": "_bT8IzZHwuaU"
      }
    }
  ]
}