{
  "nbformat": 4,
  "nbformat_minor": 0,
  "metadata": {
    "colab": {
      "provenance": [],
      "authorship_tag": "ABX9TyOyU1eqMEWTePwvPQjOvkDG",
      "include_colab_link": true
    },
    "kernelspec": {
      "name": "python3",
      "display_name": "Python 3"
    },
    "language_info": {
      "name": "python"
    }
  },
  "cells": [
    {
      "cell_type": "markdown",
      "metadata": {
        "id": "view-in-github",
        "colab_type": "text"
      },
      "source": [
        "<a href=\"https://colab.research.google.com/github/rishisg/ChatGPT/blob/main/RNN_ASSIGNMENT.ipynb\" target=\"_parent\"><img src=\"https://colab.research.google.com/assets/colab-badge.svg\" alt=\"Open In Colab\"/></a>"
      ]
    },
    {
      "cell_type": "code",
      "source": [
        "# Import necessary libraries\n",
        "import pandas as pd\n",
        "import numpy as np\n",
        "from sklearn.model_selection import train_test_split\n",
        "from sklearn.preprocessing import LabelEncoder\n",
        "from tensorflow.keras.preprocessing.text import Tokenizer\n",
        "from tensorflow.keras.preprocessing.sequence import pad_sequences\n",
        "from tensorflow.keras.models import Sequential\n",
        "from tensorflow.keras.layers import Embedding, LSTM, Dense, Dropout\n",
        "from tensorflow.keras.callbacks import EarlyStopping\n",
        "from sklearn.metrics import classification_report\n",
        "import pickle\n",
        "\n",
        "print(\"Step 1: Loading the dataset...\")\n",
        "# Load the dataset into a Pandas DataFrame\n",
        "df = pd.read_csv('twitter_training.csv', header=None, names=['ID', 'Topic', 'Sentiment', 'Text'])\n",
        "\n",
        "# Display the first few rows of the dataset\n",
        "print(\"\\nFirst few rows of the dataset:\")\n",
        "print(df.head())\n",
        "\n",
        "# Check for missing values in the dataset\n",
        "print(\"\\nChecking for missing values in the dataset:\")\n",
        "print(df.isnull().sum())\n",
        "\n",
        "print(\"\\nStep 2: Cleaning the dataset...\")\n",
        "# Filter out irrelevant sentiments ('Irrelevant')\n",
        "df = df[df['Sentiment'].isin(['Positive', 'Negative', 'Neutral'])]\n",
        "\n",
        "# Replace missing values in the 'Text' column with empty strings\n",
        "df['Text'] = df['Text'].fillna(\"\")\n",
        "print(\"Dataset cleaned. Irrelevant sentiments removed and missing values handled.\")\n",
        "\n",
        "print(\"\\nStep 3: Encoding sentiment labels...\")\n",
        "# Encode sentiment labels ('Positive', 'Negative', 'Neutral') into numerical values\n",
        "label_encoder = LabelEncoder()\n",
        "df['Sentiment'] = label_encoder.fit_transform(df['Sentiment'])\n",
        "\n",
        "# Map encoded labels back to original for reference\n",
        "sentiment_mapping = {i: label for i, label in enumerate(label_encoder.classes_)}\n",
        "print(\"Sentiment Mapping (Encoded to Original):\")\n",
        "print(sentiment_mapping)\n",
        "\n",
        "print(\"\\nStep 4: Tokenizing and padding text data...\")\n",
        "# Define tokenizer parameters\n",
        "max_vocab_size = 5000  # Limit vocabulary size\n",
        "max_len = 100          # Maximum sequence length\n",
        "\n",
        "# Tokenize the text\n",
        "tokenizer = Tokenizer(num_words=max_vocab_size)\n",
        "tokenizer.fit_on_texts(df['Text'])\n",
        "sequences = tokenizer.texts_to_sequences(df['Text'])\n",
        "\n",
        "# Pad sequences to ensure uniform input length\n",
        "padded_sequences = pad_sequences(sequences, maxlen=max_len, padding='post')\n",
        "print(f\"Text tokenized and padded. Vocabulary size: {max_vocab_size}, Max sequence length: {max_len}\")\n",
        "\n",
        "print(\"\\nStep 5: Splitting data into training and testing sets...\")\n",
        "# Features (text) and labels (sentiment)\n",
        "X = padded_sequences\n",
        "y = df['Sentiment']\n",
        "\n",
        "# Split into training and testing sets\n",
        "X_train, X_test, y_train, y_test = train_test_split(\n",
        "    X, y, test_size=0.2, random_state=42, stratify=y\n",
        ")\n",
        "\n",
        "# Ensure data types are correct\n",
        "X_train = X_train.astype('int32')\n",
        "X_test = X_test.astype('int32')\n",
        "y_train = y_train.astype('int32')\n",
        "y_test = y_test.astype('int32')\n",
        "\n",
        "print(\"Data split into training and testing sets.\")\n",
        "print(f\"Training samples: {len(X_train)}, Testing samples: {len(X_test)}\")\n",
        "\n",
        "print(\"\\nStep 6: Building the RNN model...\")\n",
        "# Build the RNN model\n",
        "model = Sequential([\n",
        "    Embedding(input_dim=max_vocab_size, output_dim=128, input_length=max_len),\n",
        "    LSTM(128, return_sequences=False),\n",
        "    Dropout(0.5),\n",
        "    Dense(64, activation='relu'),\n",
        "    Dense(3, activation='softmax')  # 3 classes: Positive, Negative, Neutral\n",
        "])\n",
        "\n",
        "# Compile the model\n",
        "model.compile(\n",
        "    loss='sparse_categorical_crossentropy',\n",
        "    optimizer='adam',\n",
        "    metrics=['accuracy']\n",
        ")\n",
        "\n",
        "# Print model summary\n",
        "print(\"Model architecture summary:\")\n",
        "model.summary()\n",
        "\n",
        "print(\"\\nStep 7: Training the model...\")\n",
        "# Define early stopping to prevent overfitting\n",
        "early_stopping = EarlyStopping(monitor='val_loss', patience=3, restore_best_weights=True)\n",
        "\n",
        "# Train the model\n",
        "history = model.fit(\n",
        "    X_train, y_train,\n",
        "    validation_data=(X_test, y_test),\n",
        "    epochs=10,\n",
        "    batch_size=64,\n",
        "    callbacks=[early_stopping]\n",
        ")\n",
        "\n",
        "print(\"\\nStep 8: Evaluating the model...\")\n",
        "# Evaluate the model on the test set\n",
        "loss, accuracy = model.evaluate(X_test, y_test)\n",
        "print(f\"Test Loss: {loss:.2f}, Test Accuracy: {accuracy:.2f}\")\n",
        "\n",
        "# Make predictions on the test set\n",
        "y_pred = model.predict(X_test)\n",
        "y_pred_classes = np.argmax(y_pred, axis=1)\n",
        "\n",
        "# Generate a classification report\n",
        "print(\"\\nClassification Report:\")\n",
        "print(classification_report(y_test, y_pred_classes, target_names=label_encoder.classes_))\n",
        "\n",
        "print(\"\\nStep 9: Saving the model and tokenizer...\")\n",
        "# Save the trained model\n",
        "model.save('sentiment_rnn_model.h5')\n",
        "print(\"Model saved as 'sentiment_rnn_model.h5'.\")\n",
        "\n",
        "# Save the tokenizer\n",
        "with open('tokenizer.pkl', 'wb') as f:\n",
        "    pickle.dump(tokenizer, f)\n",
        "print(\"Tokenizer saved as 'tokenizer.pkl'.\")\n",
        "\n",
        "print(\"\\nStep 10: Loading the saved model and making predictions...\")\n",
        "# Load the saved model\n",
        "from tensorflow.keras.models import load_model\n",
        "\n",
        "loaded_model = load_model('sentiment_rnn_model.h5')\n",
        "print(\"Model loaded successfully.\")\n",
        "\n",
        "# Load the tokenizer\n",
        "with open('tokenizer.pkl', 'rb') as f:\n",
        "    loaded_tokenizer = pickle.load(f)\n",
        "print(\"Tokenizer loaded successfully.\")\n",
        "\n",
        "# Function to predict sentiment for new text\n",
        "def predict_sentiment(text):\n",
        "    sequence = loaded_tokenizer.texts_to_sequences([text])\n",
        "    padded = pad_sequences(sequence, maxlen=max_len, padding='post')\n",
        "    prediction = loaded_model.predict(padded)\n",
        "    predicted_class = np.argmax(prediction, axis=1)\n",
        "    return label_encoder.inverse_transform(predicted_class)[0]\n",
        "\n",
        "# Test the function with an example\n",
        "example_text = \"I love this game!\"\n",
        "predicted_sentiment = predict_sentiment(example_text)\n",
        "print(f\"\\nExample Prediction:\\nText: '{example_text}'\\nPredicted Sentiment: {predicted_sentiment}\")"
      ],
      "metadata": {
        "colab": {
          "base_uri": "https://localhost:8080/",
          "height": 1000
        },
        "id": "OH3AyhnpaS2q",
        "outputId": "661f2bc7-0bd8-4d20-aede-77d29b04c4ff"
      },
      "execution_count": 3,
      "outputs": [
        {
          "output_type": "stream",
          "name": "stdout",
          "text": [
            "Step 1: Loading the dataset...\n",
            "\n",
            "First few rows of the dataset:\n",
            "     ID        Topic Sentiment  \\\n",
            "0  2401  Borderlands  Positive   \n",
            "1  2401  Borderlands  Positive   \n",
            "2  2401  Borderlands  Positive   \n",
            "3  2401  Borderlands  Positive   \n",
            "4  2401  Borderlands  Positive   \n",
            "\n",
            "                                                Text  \n",
            "0  im getting on borderlands and i will murder yo...  \n",
            "1  I am coming to the borders and I will kill you...  \n",
            "2  im getting on borderlands and i will kill you ...  \n",
            "3  im coming on borderlands and i will murder you...  \n",
            "4  im getting on borderlands 2 and i will murder ...  \n",
            "\n",
            "Checking for missing values in the dataset:\n",
            "ID             0\n",
            "Topic          0\n",
            "Sentiment      0\n",
            "Text         686\n",
            "dtype: int64\n",
            "\n",
            "Step 2: Cleaning the dataset...\n",
            "Dataset cleaned. Irrelevant sentiments removed and missing values handled.\n",
            "\n",
            "Step 3: Encoding sentiment labels...\n",
            "Sentiment Mapping (Encoded to Original):\n",
            "{0: 'Negative', 1: 'Neutral', 2: 'Positive'}\n",
            "\n",
            "Step 4: Tokenizing and padding text data...\n",
            "Text tokenized and padded. Vocabulary size: 5000, Max sequence length: 100\n",
            "\n",
            "Step 5: Splitting data into training and testing sets...\n",
            "Data split into training and testing sets.\n",
            "Training samples: 49353, Testing samples: 12339\n",
            "\n",
            "Step 6: Building the RNN model...\n",
            "Model architecture summary:\n"
          ]
        },
        {
          "output_type": "stream",
          "name": "stderr",
          "text": [
            "/usr/local/lib/python3.11/dist-packages/keras/src/layers/core/embedding.py:90: UserWarning: Argument `input_length` is deprecated. Just remove it.\n",
            "  warnings.warn(\n"
          ]
        },
        {
          "output_type": "display_data",
          "data": {
            "text/plain": [
              "\u001b[1mModel: \"sequential_1\"\u001b[0m\n"
            ],
            "text/html": [
              "<pre style=\"white-space:pre;overflow-x:auto;line-height:normal;font-family:Menlo,'DejaVu Sans Mono',consolas,'Courier New',monospace\"><span style=\"font-weight: bold\">Model: \"sequential_1\"</span>\n",
              "</pre>\n"
            ]
          },
          "metadata": {}
        },
        {
          "output_type": "display_data",
          "data": {
            "text/plain": [
              "┏━━━━━━━━━━━━━━━━━━━━━━━━━━━━━━━━━━━━━━┳━━━━━━━━━━━━━━━━━━━━━━━━━━━━━┳━━━━━━━━━━━━━━━━━┓\n",
              "┃\u001b[1m \u001b[0m\u001b[1mLayer (type)                        \u001b[0m\u001b[1m \u001b[0m┃\u001b[1m \u001b[0m\u001b[1mOutput Shape               \u001b[0m\u001b[1m \u001b[0m┃\u001b[1m \u001b[0m\u001b[1m        Param #\u001b[0m\u001b[1m \u001b[0m┃\n",
              "┡━━━━━━━━━━━━━━━━━━━━━━━━━━━━━━━━━━━━━━╇━━━━━━━━━━━━━━━━━━━━━━━━━━━━━╇━━━━━━━━━━━━━━━━━┩\n",
              "│ embedding_1 (\u001b[38;5;33mEmbedding\u001b[0m)              │ ?                           │     \u001b[38;5;34m0\u001b[0m (unbuilt) │\n",
              "├──────────────────────────────────────┼─────────────────────────────┼─────────────────┤\n",
              "│ lstm_1 (\u001b[38;5;33mLSTM\u001b[0m)                        │ ?                           │     \u001b[38;5;34m0\u001b[0m (unbuilt) │\n",
              "├──────────────────────────────────────┼─────────────────────────────┼─────────────────┤\n",
              "│ dropout_1 (\u001b[38;5;33mDropout\u001b[0m)                  │ ?                           │               \u001b[38;5;34m0\u001b[0m │\n",
              "├──────────────────────────────────────┼─────────────────────────────┼─────────────────┤\n",
              "│ dense_2 (\u001b[38;5;33mDense\u001b[0m)                      │ ?                           │     \u001b[38;5;34m0\u001b[0m (unbuilt) │\n",
              "├──────────────────────────────────────┼─────────────────────────────┼─────────────────┤\n",
              "│ dense_3 (\u001b[38;5;33mDense\u001b[0m)                      │ ?                           │     \u001b[38;5;34m0\u001b[0m (unbuilt) │\n",
              "└──────────────────────────────────────┴─────────────────────────────┴─────────────────┘\n"
            ],
            "text/html": [
              "<pre style=\"white-space:pre;overflow-x:auto;line-height:normal;font-family:Menlo,'DejaVu Sans Mono',consolas,'Courier New',monospace\">┏━━━━━━━━━━━━━━━━━━━━━━━━━━━━━━━━━━━━━━┳━━━━━━━━━━━━━━━━━━━━━━━━━━━━━┳━━━━━━━━━━━━━━━━━┓\n",
              "┃<span style=\"font-weight: bold\"> Layer (type)                         </span>┃<span style=\"font-weight: bold\"> Output Shape                </span>┃<span style=\"font-weight: bold\">         Param # </span>┃\n",
              "┡━━━━━━━━━━━━━━━━━━━━━━━━━━━━━━━━━━━━━━╇━━━━━━━━━━━━━━━━━━━━━━━━━━━━━╇━━━━━━━━━━━━━━━━━┩\n",
              "│ embedding_1 (<span style=\"color: #0087ff; text-decoration-color: #0087ff\">Embedding</span>)              │ ?                           │     <span style=\"color: #00af00; text-decoration-color: #00af00\">0</span> (unbuilt) │\n",
              "├──────────────────────────────────────┼─────────────────────────────┼─────────────────┤\n",
              "│ lstm_1 (<span style=\"color: #0087ff; text-decoration-color: #0087ff\">LSTM</span>)                        │ ?                           │     <span style=\"color: #00af00; text-decoration-color: #00af00\">0</span> (unbuilt) │\n",
              "├──────────────────────────────────────┼─────────────────────────────┼─────────────────┤\n",
              "│ dropout_1 (<span style=\"color: #0087ff; text-decoration-color: #0087ff\">Dropout</span>)                  │ ?                           │               <span style=\"color: #00af00; text-decoration-color: #00af00\">0</span> │\n",
              "├──────────────────────────────────────┼─────────────────────────────┼─────────────────┤\n",
              "│ dense_2 (<span style=\"color: #0087ff; text-decoration-color: #0087ff\">Dense</span>)                      │ ?                           │     <span style=\"color: #00af00; text-decoration-color: #00af00\">0</span> (unbuilt) │\n",
              "├──────────────────────────────────────┼─────────────────────────────┼─────────────────┤\n",
              "│ dense_3 (<span style=\"color: #0087ff; text-decoration-color: #0087ff\">Dense</span>)                      │ ?                           │     <span style=\"color: #00af00; text-decoration-color: #00af00\">0</span> (unbuilt) │\n",
              "└──────────────────────────────────────┴─────────────────────────────┴─────────────────┘\n",
              "</pre>\n"
            ]
          },
          "metadata": {}
        },
        {
          "output_type": "display_data",
          "data": {
            "text/plain": [
              "\u001b[1m Total params: \u001b[0m\u001b[38;5;34m0\u001b[0m (0.00 B)\n"
            ],
            "text/html": [
              "<pre style=\"white-space:pre;overflow-x:auto;line-height:normal;font-family:Menlo,'DejaVu Sans Mono',consolas,'Courier New',monospace\"><span style=\"font-weight: bold\"> Total params: </span><span style=\"color: #00af00; text-decoration-color: #00af00\">0</span> (0.00 B)\n",
              "</pre>\n"
            ]
          },
          "metadata": {}
        },
        {
          "output_type": "display_data",
          "data": {
            "text/plain": [
              "\u001b[1m Trainable params: \u001b[0m\u001b[38;5;34m0\u001b[0m (0.00 B)\n"
            ],
            "text/html": [
              "<pre style=\"white-space:pre;overflow-x:auto;line-height:normal;font-family:Menlo,'DejaVu Sans Mono',consolas,'Courier New',monospace\"><span style=\"font-weight: bold\"> Trainable params: </span><span style=\"color: #00af00; text-decoration-color: #00af00\">0</span> (0.00 B)\n",
              "</pre>\n"
            ]
          },
          "metadata": {}
        },
        {
          "output_type": "display_data",
          "data": {
            "text/plain": [
              "\u001b[1m Non-trainable params: \u001b[0m\u001b[38;5;34m0\u001b[0m (0.00 B)\n"
            ],
            "text/html": [
              "<pre style=\"white-space:pre;overflow-x:auto;line-height:normal;font-family:Menlo,'DejaVu Sans Mono',consolas,'Courier New',monospace\"><span style=\"font-weight: bold\"> Non-trainable params: </span><span style=\"color: #00af00; text-decoration-color: #00af00\">0</span> (0.00 B)\n",
              "</pre>\n"
            ]
          },
          "metadata": {}
        },
        {
          "output_type": "stream",
          "name": "stdout",
          "text": [
            "\n",
            "Step 7: Training the model...\n",
            "Epoch 1/10\n",
            "\u001b[1m772/772\u001b[0m \u001b[32m━━━━━━━━━━━━━━━━━━━━\u001b[0m\u001b[37m\u001b[0m \u001b[1m214s\u001b[0m 271ms/step - accuracy: 0.3552 - loss: 1.0970 - val_accuracy: 0.3375 - val_loss: 1.0958\n",
            "Epoch 2/10\n",
            "\u001b[1m772/772\u001b[0m \u001b[32m━━━━━━━━━━━━━━━━━━━━\u001b[0m\u001b[37m\u001b[0m \u001b[1m259s\u001b[0m 267ms/step - accuracy: 0.3638 - loss: 1.0956 - val_accuracy: 0.3654 - val_loss: 1.0952\n",
            "Epoch 3/10\n",
            "\u001b[1m772/772\u001b[0m \u001b[32m━━━━━━━━━━━━━━━━━━━━\u001b[0m\u001b[37m\u001b[0m \u001b[1m263s\u001b[0m 268ms/step - accuracy: 0.3677 - loss: 1.0951 - val_accuracy: 0.3654 - val_loss: 1.0952\n",
            "Epoch 4/10\n",
            "\u001b[1m772/772\u001b[0m \u001b[32m━━━━━━━━━━━━━━━━━━━━\u001b[0m\u001b[37m\u001b[0m \u001b[1m263s\u001b[0m 269ms/step - accuracy: 0.3601 - loss: 1.0960 - val_accuracy: 0.3654 - val_loss: 1.0953\n",
            "Epoch 5/10\n",
            "\u001b[1m772/772\u001b[0m \u001b[32m━━━━━━━━━━━━━━━━━━━━\u001b[0m\u001b[37m\u001b[0m \u001b[1m261s\u001b[0m 268ms/step - accuracy: 0.3661 - loss: 1.0953 - val_accuracy: 0.3654 - val_loss: 1.0951\n",
            "Epoch 6/10\n",
            "\u001b[1m772/772\u001b[0m \u001b[32m━━━━━━━━━━━━━━━━━━━━\u001b[0m\u001b[37m\u001b[0m \u001b[1m209s\u001b[0m 270ms/step - accuracy: 0.3669 - loss: 1.0950 - val_accuracy: 0.3654 - val_loss: 1.0954\n",
            "Epoch 7/10\n",
            "\u001b[1m772/772\u001b[0m \u001b[32m━━━━━━━━━━━━━━━━━━━━\u001b[0m\u001b[37m\u001b[0m \u001b[1m207s\u001b[0m 269ms/step - accuracy: 0.3670 - loss: 1.0949 - val_accuracy: 0.3654 - val_loss: 1.0959\n",
            "Epoch 8/10\n",
            "\u001b[1m772/772\u001b[0m \u001b[32m━━━━━━━━━━━━━━━━━━━━\u001b[0m\u001b[37m\u001b[0m \u001b[1m205s\u001b[0m 266ms/step - accuracy: 0.3655 - loss: 1.0955 - val_accuracy: 0.3654 - val_loss: 1.0950\n",
            "Epoch 9/10\n",
            "\u001b[1m772/772\u001b[0m \u001b[32m━━━━━━━━━━━━━━━━━━━━\u001b[0m\u001b[37m\u001b[0m \u001b[1m205s\u001b[0m 265ms/step - accuracy: 0.3647 - loss: 1.0952 - val_accuracy: 0.3654 - val_loss: 1.0950\n",
            "Epoch 10/10\n",
            "\u001b[1m772/772\u001b[0m \u001b[32m━━━━━━━━━━━━━━━━━━━━\u001b[0m\u001b[37m\u001b[0m \u001b[1m258s\u001b[0m 260ms/step - accuracy: 0.3617 - loss: 1.0955 - val_accuracy: 0.3654 - val_loss: 1.0951\n",
            "\n",
            "Step 8: Evaluating the model...\n",
            "\u001b[1m386/386\u001b[0m \u001b[32m━━━━━━━━━━━━━━━━━━━━\u001b[0m\u001b[37m\u001b[0m \u001b[1m25s\u001b[0m 65ms/step - accuracy: 0.3654 - loss: 1.0956\n",
            "Test Loss: 1.10, Test Accuracy: 0.37\n",
            "\u001b[1m386/386\u001b[0m \u001b[32m━━━━━━━━━━━━━━━━━━━━\u001b[0m\u001b[37m\u001b[0m \u001b[1m23s\u001b[0m 60ms/step\n"
          ]
        },
        {
          "output_type": "stream",
          "name": "stderr",
          "text": [
            "/usr/local/lib/python3.11/dist-packages/sklearn/metrics/_classification.py:1565: UndefinedMetricWarning: Precision is ill-defined and being set to 0.0 in labels with no predicted samples. Use `zero_division` parameter to control this behavior.\n",
            "  _warn_prf(average, modifier, f\"{metric.capitalize()} is\", len(result))\n",
            "/usr/local/lib/python3.11/dist-packages/sklearn/metrics/_classification.py:1565: UndefinedMetricWarning: Precision is ill-defined and being set to 0.0 in labels with no predicted samples. Use `zero_division` parameter to control this behavior.\n",
            "  _warn_prf(average, modifier, f\"{metric.capitalize()} is\", len(result))\n",
            "/usr/local/lib/python3.11/dist-packages/sklearn/metrics/_classification.py:1565: UndefinedMetricWarning: Precision is ill-defined and being set to 0.0 in labels with no predicted samples. Use `zero_division` parameter to control this behavior.\n",
            "  _warn_prf(average, modifier, f\"{metric.capitalize()} is\", len(result))\n",
            "WARNING:absl:You are saving your model as an HDF5 file via `model.save()` or `keras.saving.save_model(model)`. This file format is considered legacy. We recommend using instead the native Keras format, e.g. `model.save('my_model.keras')` or `keras.saving.save_model(model, 'my_model.keras')`. \n",
            "WARNING:absl:Compiled the loaded model, but the compiled metrics have yet to be built. `model.compile_metrics` will be empty until you train or evaluate the model.\n"
          ]
        },
        {
          "output_type": "stream",
          "name": "stdout",
          "text": [
            "\n",
            "Classification Report:\n",
            "              precision    recall  f1-score   support\n",
            "\n",
            "    Negative       0.37      1.00      0.54      4509\n",
            "     Neutral       0.00      0.00      0.00      3664\n",
            "    Positive       0.00      0.00      0.00      4166\n",
            "\n",
            "    accuracy                           0.37     12339\n",
            "   macro avg       0.12      0.33      0.18     12339\n",
            "weighted avg       0.13      0.37      0.20     12339\n",
            "\n",
            "\n",
            "Step 9: Saving the model and tokenizer...\n",
            "Model saved as 'sentiment_rnn_model.h5'.\n",
            "Tokenizer saved as 'tokenizer.pkl'.\n",
            "\n",
            "Step 10: Loading the saved model and making predictions...\n",
            "Model loaded successfully.\n",
            "Tokenizer loaded successfully.\n",
            "\u001b[1m1/1\u001b[0m \u001b[32m━━━━━━━━━━━━━━━━━━━━\u001b[0m\u001b[37m\u001b[0m \u001b[1m0s\u001b[0m 252ms/step\n",
            "\n",
            "Example Prediction:\n",
            "Text: 'I love this game!'\n",
            "Predicted Sentiment: Negative\n"
          ]
        }
      ]
    }
  ]
}