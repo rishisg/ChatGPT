{
  "nbformat": 4,
  "nbformat_minor": 0,
  "metadata": {
    "colab": {
      "provenance": [],
      "authorship_tag": "ABX9TyNhb0yGjqS+TkP4w8QnfkVh",
      "include_colab_link": true
    },
    "kernelspec": {
      "name": "python3",
      "display_name": "Python 3"
    },
    "language_info": {
      "name": "python"
    }
  },
  "cells": [
    {
      "cell_type": "markdown",
      "metadata": {
        "id": "view-in-github",
        "colab_type": "text"
      },
      "source": [
        "<a href=\"https://colab.research.google.com/github/rishisg/ChatGPT/blob/main/Python_Programming__Basics_Assignment.ipynb\" target=\"_parent\"><img src=\"https://colab.research.google.com/assets/colab-badge.svg\" alt=\"Open In Colab\"/></a>"
      ]
    },
    {
      "cell_type": "markdown",
      "source": [
        "Python Programming Basics Assignment: A Step-by-Step Guide\n",
        "\n",
        "1️⃣ Setup and Basic Operations\n",
        "\n",
        "Before coding, ensure Python is installed on your system. You can install it from python.org.\n",
        "\n",
        "Basic Operations"
      ],
      "metadata": {
        "id": "-39i6QtsqvF4"
      }
    },
    {
      "cell_type": "code",
      "execution_count": 1,
      "metadata": {
        "colab": {
          "base_uri": "https://localhost:8080/"
        },
        "id": "2FmNlKLwqmn0",
        "outputId": "513e1f3c-58b2-459b-f09a-ecdf83dc1d16"
      },
      "outputs": [
        {
          "output_type": "stream",
          "name": "stdout",
          "text": [
            "Hello, Python!\n"
          ]
        }
      ],
      "source": [
        "# Printing output:\n",
        "print(\"Hello, Python!\")\n"
      ]
    },
    {
      "cell_type": "code",
      "source": [
        "# Getting user input:\n",
        "name = input(\"Enter your name: \")\n",
        "print(\"Hello,\", name)\n"
      ],
      "metadata": {
        "colab": {
          "base_uri": "https://localhost:8080/"
        },
        "id": "dIOcnoR9q6kE",
        "outputId": "de002e4c-1e50-42a6-8134-3e1a2327ef79"
      },
      "execution_count": 2,
      "outputs": [
        {
          "output_type": "stream",
          "name": "stdout",
          "text": [
            "Enter your name: Lakshman\n",
            "Hello, Lakshman\n"
          ]
        }
      ]
    },
    {
      "cell_type": "code",
      "source": [
        "# Assigning variables & checking data types:\n",
        "\n",
        "age = 25\n",
        "price = 19.99\n",
        "message = \"Python Basics\"\n",
        "\n",
        "print(type(age))    # Output: <class 'int'>\n",
        "print(type(price))  # Output: <class 'float'>\n",
        "print(type(message)) # Output: <class 'str'>\n"
      ],
      "metadata": {
        "colab": {
          "base_uri": "https://localhost:8080/"
        },
        "id": "ZrNZZFOFrClo",
        "outputId": "18dce28d-4ccd-4384-ef75-5fda063c78d3"
      },
      "execution_count": 3,
      "outputs": [
        {
          "output_type": "stream",
          "name": "stdout",
          "text": [
            "<class 'int'>\n",
            "<class 'float'>\n",
            "<class 'str'>\n"
          ]
        }
      ]
    },
    {
      "cell_type": "markdown",
      "source": [
        "2️⃣ List Operations\n",
        "\n",
        "Lists are ordered, mutable collections that can store multiple data types."
      ],
      "metadata": {
        "id": "SbiHNhkZrPTu"
      }
    },
    {
      "cell_type": "code",
      "source": [
        "# Creating a list\n",
        "fruits = [\"apple\", \"banana\", \"cherry\"]\n",
        "print(fruits)\n"
      ],
      "metadata": {
        "colab": {
          "base_uri": "https://localhost:8080/"
        },
        "id": "C9ECeXdGrGlc",
        "outputId": "97bcdfa9-55c1-4137-ffae-157e451a6e2f"
      },
      "execution_count": 4,
      "outputs": [
        {
          "output_type": "stream",
          "name": "stdout",
          "text": [
            "['apple', 'banana', 'cherry']\n"
          ]
        }
      ]
    },
    {
      "cell_type": "code",
      "source": [
        "# List operations\n",
        "fruits.append(\"mango\")  # Adds an item at the end\n",
        "fruits.remove(\"banana\") # Removes a specific item\n",
        "print(fruits.pop())     # Removes and returns the last item\n",
        "print(fruits[:2])       # Slicing: Gets first two items\n"
      ],
      "metadata": {
        "colab": {
          "base_uri": "https://localhost:8080/"
        },
        "id": "aeW5v8derXy4",
        "outputId": "c6d23601-2801-459a-ac40-4eceb5a9347e"
      },
      "execution_count": 5,
      "outputs": [
        {
          "output_type": "stream",
          "name": "stdout",
          "text": [
            "mango\n",
            "['apple', 'cherry']\n"
          ]
        }
      ]
    },
    {
      "cell_type": "code",
      "source": [
        "# Looping through a list\n",
        "for fruit in fruits:\n",
        "    print(fruit)\n"
      ],
      "metadata": {
        "colab": {
          "base_uri": "https://localhost:8080/"
        },
        "id": "X-BfeZqYrctJ",
        "outputId": "ba6321b9-fe42-4282-f5cf-6935673c8c25"
      },
      "execution_count": 6,
      "outputs": [
        {
          "output_type": "stream",
          "name": "stdout",
          "text": [
            "apple\n",
            "cherry\n"
          ]
        }
      ]
    },
    {
      "cell_type": "markdown",
      "source": [
        "3️⃣ Tuple Operations\n",
        "\n",
        "Tuples are immutable, meaning their values cannot be changed after creation."
      ],
      "metadata": {
        "id": "0n_eG3YarorU"
      }
    },
    {
      "cell_type": "code",
      "source": [
        "# Creating and accessing a tuple\n",
        "numbers = (10, 20, 30, 40)\n",
        "print(numbers[2])  # Output: 30\n"
      ],
      "metadata": {
        "colab": {
          "base_uri": "https://localhost:8080/"
        },
        "id": "grZPW4aNrq5c",
        "outputId": "abe4e576-8dc5-4b37-c847-f4fd26b72d52"
      },
      "execution_count": 7,
      "outputs": [
        {
          "output_type": "stream",
          "name": "stdout",
          "text": [
            "30\n"
          ]
        }
      ]
    },
    {
      "cell_type": "code",
      "source": [
        "# Tuple unpacking\n",
        "x, y, z, w = numbers\n",
        "print(x, y, z, w)  # Output: 10 20 30 40\n"
      ],
      "metadata": {
        "colab": {
          "base_uri": "https://localhost:8080/"
        },
        "id": "5SHaBipHrxNq",
        "outputId": "aa116c4f-667a-45ec-c916-315fc53a25a6"
      },
      "execution_count": 8,
      "outputs": [
        {
          "output_type": "stream",
          "name": "stdout",
          "text": [
            "10 20 30 40\n"
          ]
        }
      ]
    },
    {
      "cell_type": "markdown",
      "source": [
        "4️⃣ Dictionary Operations\n",
        "\n",
        "Dictionaries store key-value pairs."
      ],
      "metadata": {
        "id": "UWk8wOkJsFuL"
      }
    },
    {
      "cell_type": "code",
      "source": [
        "# Creating a dictionary\n",
        "student_marks = {\"Alice\": 85, \"Bob\": 90, \"Charlie\": 78}\n",
        "print(student_marks[\"Bob\"])  # Output: 90\n"
      ],
      "metadata": {
        "colab": {
          "base_uri": "https://localhost:8080/"
        },
        "id": "Xy3rgF3lsHqC",
        "outputId": "c9f73ac7-67f8-4116-9291-eda8c7907e01"
      },
      "execution_count": 9,
      "outputs": [
        {
          "output_type": "stream",
          "name": "stdout",
          "text": [
            "90\n"
          ]
        }
      ]
    },
    {
      "cell_type": "code",
      "source": [
        "# Adding, updating, and deleting\n",
        "student_marks[\"David\"] = 88  # Adding a new key-value pair\n",
        "student_marks[\"Alice\"] = 92  # Updating an existing value\n",
        "del student_marks[\"Charlie\"] # Removing a key-value pair\n"
      ],
      "metadata": {
        "id": "TJHrfVf2sNOo"
      },
      "execution_count": 10,
      "outputs": []
    },
    {
      "cell_type": "code",
      "source": [
        "# Iterating through a dictionary\n",
        "for name, marks in student_marks.items():\n",
        "    print(f\"{name}: {marks}\")\n"
      ],
      "metadata": {
        "colab": {
          "base_uri": "https://localhost:8080/"
        },
        "id": "4Dyp5jvmsUiO",
        "outputId": "1ea64c2c-ff75-4df1-84f6-2c010fb61e70"
      },
      "execution_count": 11,
      "outputs": [
        {
          "output_type": "stream",
          "name": "stdout",
          "text": [
            "Alice: 92\n",
            "Bob: 90\n",
            "David: 88\n"
          ]
        }
      ]
    },
    {
      "cell_type": "markdown",
      "source": [
        "5️⃣ Set Operations\n",
        "\n",
        "Sets store unique values and are unordered."
      ],
      "metadata": {
        "id": "Y86em-pZsYQA"
      }
    },
    {
      "cell_type": "code",
      "source": [
        "# Creating a set\n",
        "unique_numbers = {1, 2, 3, 4, 4, 5}\n",
        "print(unique_numbers)  # Output: {1, 2, 3, 4, 5}\n"
      ],
      "metadata": {
        "colab": {
          "base_uri": "https://localhost:8080/"
        },
        "id": "jtNhn4C2scfX",
        "outputId": "6acdf756-40d1-4744-f395-8651aa9dc386"
      },
      "execution_count": 12,
      "outputs": [
        {
          "output_type": "stream",
          "name": "stdout",
          "text": [
            "{1, 2, 3, 4, 5}\n"
          ]
        }
      ]
    },
    {
      "cell_type": "code",
      "source": [
        "# Set operations\n",
        "set_a = {1, 2, 3}\n",
        "set_b = {3, 4, 5}\n",
        "\n",
        "print(set_a | set_b)  # Union: {1, 2, 3, 4, 5}\n",
        "print(set_a & set_b)  # Intersection: {3}\n",
        "print(set_a - set_b)  # Difference: {1, 2}\n"
      ],
      "metadata": {
        "colab": {
          "base_uri": "https://localhost:8080/"
        },
        "id": "U13MV9jssg5d",
        "outputId": "9eac189f-61ad-4754-c2fa-d8c8734ece32"
      },
      "execution_count": 13,
      "outputs": [
        {
          "output_type": "stream",
          "name": "stdout",
          "text": [
            "{1, 2, 3, 4, 5}\n",
            "{3}\n",
            "{1, 2}\n"
          ]
        }
      ]
    },
    {
      "cell_type": "markdown",
      "source": [
        "6️⃣ Conditional Statements (if-else)"
      ],
      "metadata": {
        "id": "oJhpSi2dsphR"
      }
    },
    {
      "cell_type": "code",
      "source": [
        "# Conditional statements control decision-making in programs.\n",
        "age = int(input(\"Enter your age: \"))\n",
        "\n",
        "if age >= 18:\n",
        "    print(\"You are an adult.\")\n",
        "elif age > 12:\n",
        "    print(\"You are a teenager.\")\n",
        "else:\n",
        "    print(\"You are a child.\")\n"
      ],
      "metadata": {
        "colab": {
          "base_uri": "https://localhost:8080/"
        },
        "id": "bh1Dn6KYsqgu",
        "outputId": "5be15b42-76c2-43aa-b14c-edc396f788ab"
      },
      "execution_count": 14,
      "outputs": [
        {
          "output_type": "stream",
          "name": "stdout",
          "text": [
            "Enter your age: 57\n",
            "You are an adult.\n"
          ]
        }
      ]
    },
    {
      "cell_type": "markdown",
      "source": [
        "7️⃣ Looping Constructs\n",
        "\n",
        "Loops allow repeating tasks efficiently."
      ],
      "metadata": {
        "id": "zys9w1tus24Y"
      }
    },
    {
      "cell_type": "code",
      "source": [
        "# For loop\n",
        "numbers = [10, 20, 30]\n",
        "for num in numbers:\n",
        "    print(num)\n"
      ],
      "metadata": {
        "colab": {
          "base_uri": "https://localhost:8080/"
        },
        "id": "DKCrL8m6s4qo",
        "outputId": "8188cd61-e5f4-4ed8-e06d-18ae9dea9cf9"
      },
      "execution_count": 15,
      "outputs": [
        {
          "output_type": "stream",
          "name": "stdout",
          "text": [
            "10\n",
            "20\n",
            "30\n"
          ]
        }
      ]
    },
    {
      "cell_type": "code",
      "source": [
        "# While loop\n",
        "count = 0\n",
        "while count < 5:\n",
        "    print(\"Count:\", count)\n",
        "    count += 1\n"
      ],
      "metadata": {
        "colab": {
          "base_uri": "https://localhost:8080/"
        },
        "id": "CB-gUWE7s-Mb",
        "outputId": "5d5aa4ce-94e9-4211-c0c2-f6db049f3982"
      },
      "execution_count": 16,
      "outputs": [
        {
          "output_type": "stream",
          "name": "stdout",
          "text": [
            "Count: 0\n",
            "Count: 1\n",
            "Count: 2\n",
            "Count: 3\n",
            "Count: 4\n"
          ]
        }
      ]
    },
    {
      "cell_type": "code",
      "source": [
        "# Break and Continue\n",
        "for num in range(10):\n",
        "    if num == 5:\n",
        "        break  # Stops loop completely\n",
        "    if num % 2 == 0:\n",
        "        continue  # Skips even numbers\n",
        "    print(num)\n"
      ],
      "metadata": {
        "colab": {
          "base_uri": "https://localhost:8080/"
        },
        "id": "hI178-7ptFjg",
        "outputId": "76891c89-b8dc-423f-ef48-b50f1f1dc2c4"
      },
      "execution_count": 17,
      "outputs": [
        {
          "output_type": "stream",
          "name": "stdout",
          "text": [
            "1\n",
            "3\n"
          ]
        }
      ]
    },
    {
      "cell_type": "markdown",
      "source": [
        "8️⃣ Problem-Solving Tasks"
      ],
      "metadata": {
        "id": "77DOUOXMtLke"
      }
    },
    {
      "cell_type": "code",
      "source": [
        "# Finding the largest number in a list\n",
        "numbers = [45, 12, 78, 34, 89]\n",
        "largest = max(numbers)\n",
        "print(\"Largest number:\", largest)\n"
      ],
      "metadata": {
        "colab": {
          "base_uri": "https://localhost:8080/"
        },
        "id": "qwkEshTctMXr",
        "outputId": "1cc658f1-d667-42ed-d461-f676e02f4c68"
      },
      "execution_count": 18,
      "outputs": [
        {
          "output_type": "stream",
          "name": "stdout",
          "text": [
            "Largest number: 89\n"
          ]
        }
      ]
    },
    {
      "cell_type": "code",
      "source": [
        "# Counting frequency of elements\n",
        "from collections import Counter\n",
        "\n",
        "nums = [1, 2, 3, 2, 1, 3, 3, 2]\n",
        "frequency = Counter(nums)\n",
        "print(frequency)  # Output: {1: 2, 2: 3, 3: 3}\n"
      ],
      "metadata": {
        "colab": {
          "base_uri": "https://localhost:8080/"
        },
        "id": "dakeNTYjtQpJ",
        "outputId": "e0288553-4b01-4b53-e7f0-c4a5fac9bc77"
      },
      "execution_count": 19,
      "outputs": [
        {
          "output_type": "stream",
          "name": "stdout",
          "text": [
            "Counter({2: 3, 3: 3, 1: 2})\n"
          ]
        }
      ]
    },
    {
      "cell_type": "code",
      "source": [
        "# Finding the student with the highest marks\n",
        "student_marks = {\"Alice\": 85, \"Bob\": 90, \"Charlie\": 78}\n",
        "\n",
        "top_student = max(student_marks, key=student_marks.get)\n",
        "print(\"Top Student:\", top_student)\n"
      ],
      "metadata": {
        "colab": {
          "base_uri": "https://localhost:8080/"
        },
        "id": "jIOtpoRWtX5A",
        "outputId": "8311c1d8-a821-4e0a-dbbc-c7b55b4f7f3d"
      },
      "execution_count": 20,
      "outputs": [
        {
          "output_type": "stream",
          "name": "stdout",
          "text": [
            "Top Student: Bob\n"
          ]
        }
      ]
    },
    {
      "cell_type": "code",
      "source": [
        "# Fibonacci series using while loop\n",
        "n = int(input(\"Enter number of terms: \"))\n",
        "a, b = 0, 1\n",
        "\n",
        "while a <= n:\n",
        "    print(a, end=\" \")\n",
        "    a, b = b, a + b\n"
      ],
      "metadata": {
        "colab": {
          "base_uri": "https://localhost:8080/"
        },
        "id": "QN08LOs2tcVg",
        "outputId": "55678dc2-4f67-49b4-ddd3-8055924d2182"
      },
      "execution_count": 21,
      "outputs": [
        {
          "output_type": "stream",
          "name": "stdout",
          "text": [
            "Enter number of terms: 12\n",
            "0 1 1 2 3 5 8 "
          ]
        }
      ]
    },
    {
      "cell_type": "code",
      "source": [
        "# Removing duplicates using a set\n",
        "numbers = [1, 2, 2, 3, 4, 4, 5]\n",
        "unique_numbers = list(set(numbers))\n",
        "print(\"Unique numbers:\", unique_numbers)\n"
      ],
      "metadata": {
        "colab": {
          "base_uri": "https://localhost:8080/"
        },
        "id": "T-DNMxrktjvP",
        "outputId": "1d9672c2-f539-45f5-90c9-681d63ee6247"
      },
      "execution_count": 22,
      "outputs": [
        {
          "output_type": "stream",
          "name": "stdout",
          "text": [
            "Unique numbers: [1, 2, 3, 4, 5]\n"
          ]
        }
      ]
    },
    {
      "cell_type": "markdown",
      "source": [
        "Dataset for Practice\n",
        "To practice further, manually create sample datasets:"
      ],
      "metadata": {
        "id": "LnAl8MtXtpra"
      }
    },
    {
      "cell_type": "code",
      "source": [
        "# Example 1: Student Marks Dictionary\n",
        "students = {\n",
        "    \"Alice\": {\"Math\": 85, \"English\": 90},\n",
        "    \"Bob\": {\"Math\": 78, \"English\": 88}\n",
        "}\n"
      ],
      "metadata": {
        "id": "-Ya7TIVgtsZ7"
      },
      "execution_count": 23,
      "outputs": []
    },
    {
      "cell_type": "code",
      "source": [
        "# Example 2: List of Transactions\n",
        "transactions = [1500, 2300, 450, 890, 1200]\n"
      ],
      "metadata": {
        "id": "N41sIpXAtx3x"
      },
      "execution_count": 24,
      "outputs": []
    }
  ]
}