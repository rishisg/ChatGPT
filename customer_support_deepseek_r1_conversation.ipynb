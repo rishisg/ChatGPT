{
  "nbformat": 4,
  "nbformat_minor": 0,
  "metadata": {
    "colab": {
      "provenance": [],
      "gpuType": "T4",
      "authorship_tag": "ABX9TyNm0OY3LcC3/dnwBhmSccI7",
      "include_colab_link": true
    },
    "kernelspec": {
      "name": "python3",
      "display_name": "Python 3"
    },
    "language_info": {
      "name": "python"
    },
    "accelerator": "GPU"
  },
  "cells": [
    {
      "cell_type": "markdown",
      "metadata": {
        "id": "view-in-github",
        "colab_type": "text"
      },
      "source": [
        "<a href=\"https://colab.research.google.com/github/rishisg/ChatGPT/blob/main/customer_support_deepseek_r1_conversation.ipynb\" target=\"_parent\"><img src=\"https://colab.research.google.com/assets/colab-badge.svg\" alt=\"Open In Colab\"/></a>"
      ]
    },
    {
      "cell_type": "code",
      "source": [
        "#Assignment 1: Generate a Conversation Between Customer and Support Agent Using Ollama & DeepSeek-R1 Model\n",
        "#Step 1: Install Ollama and Set Up the Environment\n",
        "\n",
        "# Install Ollama\n",
        "!curl -fsSL https://ollama.com/install.sh | sh\n",
        "\n",
        "# Run Ollama in the background (Ensure Ollama is installed)\n",
        "import subprocess\n",
        "process = subprocess.Popen(['ollama', 'serve'], stdout=subprocess.PIPE, stderr=subprocess.PIPE)\n",
        "\n",
        "# Print the process ID to confirm it's running\n",
        "print(f\"Ollama serve process ID: {process.pid}\")\n"
      ],
      "metadata": {
        "colab": {
          "base_uri": "https://localhost:8080/"
        },
        "id": "xjA-ewyn-L1Z",
        "outputId": "c8406871-22d9-436c-ca1e-da7a3f32658d"
      },
      "execution_count": null,
      "outputs": [
        {
          "output_type": "stream",
          "name": "stdout",
          "text": [
            ">>> Cleaning up old version at /usr/local/lib/ollama\n",
            ">>> Installing ollama to /usr/local\n",
            ">>> Downloading Linux amd64 bundle\n",
            "############################################################################################# 100.0%\n",
            ">>> Adding ollama user to video group...\n",
            ">>> Adding current user to ollama group...\n",
            ">>> Creating ollama systemd service...\n",
            "\u001b[1m\u001b[31mWARNING:\u001b[m systemd is not running\n",
            "\u001b[1m\u001b[31mWARNING:\u001b[m Unable to detect NVIDIA/AMD GPU. Install lspci or lshw to automatically detect and install GPU dependencies.\n",
            ">>> The Ollama API is now available at 127.0.0.1:11434.\n",
            ">>> Install complete. Run \"ollama\" from the command line.\n",
            "Ollama serve process ID: 10716\n"
          ]
        }
      ]
    },
    {
      "cell_type": "code",
      "source": [
        "#Step 2: Pull DeepSeek-R1 Model\n",
        "# Pull the DeepSeek-R1 model for use in generating responses\n",
        "!ollama pull deepseek-r1\n"
      ],
      "metadata": {
        "colab": {
          "base_uri": "https://localhost:8080/"
        },
        "id": "BM6fjGO4-qM0",
        "outputId": "b5b0290d-67e7-442e-9c53-856cf6c5b9f9"
      },
      "execution_count": null,
      "outputs": [
        {
          "output_type": "stream",
          "name": "stdout",
          "text": [
            "\u001b[?2026h\u001b[?25l\u001b[1Gpulling manifest ⠋ \u001b[K\u001b[?25h\u001b[?2026l\u001b[?2026h\u001b[?25l\u001b[1Gpulling manifest ⠙ \u001b[K\u001b[?25h\u001b[?2026l\u001b[?2026h\u001b[?25l\u001b[1Gpulling manifest ⠹ \u001b[K\u001b[?25h\u001b[?2026l\u001b[?2026h\u001b[?25l\u001b[1Gpulling manifest ⠼ \u001b[K\u001b[?25h\u001b[?2026l\u001b[?2026h\u001b[?25l\u001b[1Gpulling manifest \u001b[K\n",
            "pulling 96c415656d37... 100% ▕▏ 4.7 GB                         \u001b[K\n",
            "pulling 369ca498f347... 100% ▕▏  387 B                         \u001b[K\n",
            "pulling 6e4c38e1172f... 100% ▕▏ 1.1 KB                         \u001b[K\n",
            "pulling f4d24e9138dd... 100% ▕▏  148 B                         \u001b[K\n",
            "pulling 40fb844194b2... 100% ▕▏  487 B                         \u001b[K\n",
            "verifying sha256 digest \u001b[K\n",
            "writing manifest \u001b[K\n",
            "success \u001b[K\u001b[?25h\u001b[?2026l\n"
          ]
        }
      ]
    },
    {
      "cell_type": "code",
      "source": [
        "#Step 3: Generate the Conversation (Python Code)\n",
        "\n",
        "import requests\n",
        "import json\n",
        "\n",
        "# Function to generate conversation and clean output\n",
        "def generate_conversation():\n",
        "    url = \"http://localhost:11434/api/chat\"\n",
        "\n",
        "    # Updated prompt for a clear and structured customer-agent conversation\n",
        "    payload = {\n",
        "        \"model\": \"deepseek-r1\",  # Use DeepSeek-R1 model\n",
        "        \"messages\": [\n",
        "            {\"role\": \"user\", \"content\": \"You are an e-commerce customer support agent. A customer has received the wrong item in their order. They ordered a black jacket but received a red one instead. The customer asks: 'I received the wrong item in my order. I ordered a black jacket, but I got a red one instead. What should I do?' Please generate a single, clear, and structured response in a customer-agent conversation format. The agent should offer two clear options (replacement or refund) with actionable instructions and a professional yet friendly tone. Avoid formal email format and provide specific steps on how the customer can proceed.\"}\n",
        "        ]\n",
        "    }\n",
        "\n",
        "    # Send the POST request to the Ollama server\n",
        "    response = requests.post(url, json=payload, stream=True)\n",
        "    full_response = \"\"\n",
        "\n",
        "    # Handle streaming response\n",
        "    for line in response.iter_lines():\n",
        "        if line:\n",
        "            json_response = json.loads(line.decode('utf-8'))\n",
        "            if 'message' in json_response:\n",
        "                content = json_response['message']['content']\n",
        "                full_response += content\n",
        "\n",
        "    # Clean the output to remove any unnecessary responses\n",
        "    clean_response = remove_think_block(full_response)\n",
        "    return clean_response\n",
        "\n",
        "# Function to remove <think> block from generated content\n",
        "def remove_think_block(text):\n",
        "    # Check and remove the part before the conversation starts (i.e., everything before the 'Customer:' line)\n",
        "    if \"<think>\" in text:\n",
        "        start_index = text.find(\"<think>\") + len(\"<think>\")  # Find where the think block starts\n",
        "        end_index = text.find(\"</think>\")  # Find where the think block ends\n",
        "        cleaned_text = text[end_index + len(\"</think>\"):].strip()  # Keep only the conversation part\n",
        "        return cleaned_text\n",
        "    return text\n",
        "\n",
        "# Generate and print the conversation\n",
        "conversation = generate_conversation()\n",
        "print(\"Generated Conversation:\\n\", conversation)\n"
      ],
      "metadata": {
        "colab": {
          "base_uri": "https://localhost:8080/"
        },
        "id": "pN-obeXD-zGf",
        "outputId": "6bb8bc73-c30f-4142-a5cf-805d89570703"
      },
      "execution_count": null,
      "outputs": [
        {
          "output_type": "stream",
          "name": "stdout",
          "text": [
            "Generated Conversation:\n",
            " Certainly! Here's a structured response you can use:\n",
            "\n",
            "---\n",
            "\n",
            "**Customer:**  \n",
            "\"I received the wrong item in my order. I ordered a black jacket, but I got a red one instead.\"\n",
            "\n",
            "**Agent:**  \n",
            "Thank you for bringing this to our attention. We apologize for the inconvenience and are here to help. There are two clear options you can take:  \n",
            "\n",
            "1. **Replacement:**  \n",
            "   - Ship the incorrect red jacket back to us at no additional cost.  \n",
            "   - Once we receive it, we will process a replacement order for the correct black jacket. You’ll also receive a confirmation email with your new item.  \n",
            "\n",
            "2. **Refund:**  \n",
            "   - Return the red jacket within the required timeframe (usually 14 days).  \n",
            "   - After receiving your return, we’ll process a refund for either the full amount or part of it, depending on our refund policy. Again, you’ll receive a confirmation email with the details.  \n",
            "\n",
            "If you need assistance with any of these steps or have further questions, feel free to ask!  \n",
            "\n",
            "--- \n",
            "\n",
            "This response is clear, concise, and provides specific instructions while maintaining a friendly tone.\n"
          ]
        }
      ]
    }
  ]
}